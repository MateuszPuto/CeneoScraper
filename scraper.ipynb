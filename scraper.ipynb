{
 "cells": [
  {
   "cell_type": "code",
   "execution_count": 1,
   "id": "dc0a8206",
   "metadata": {},
   "outputs": [
    {
     "name": "stdout",
     "output_type": "stream",
     "text": [
      "Podaj kod produktu: 44265107\n",
      "\n",
      "\n",
      "Pobieranie 1 strony z opiniami. Pobrano 24.0%.\n",
      "Pobieranie 2 strony z opiniami. Pobrano 49.0%.\n",
      "Pobieranie 3 strony z opiniami. Pobrano 73.0%.\n",
      "Pobieranie 4 strony z opiniami. Pobrano 98.0%.\n",
      "Pobieranie 5 strony z opiniami. Pobrano 100.0%.\n"
     ]
    }
   ],
   "source": [
    "import requests\n",
    "from bs4 import BeautifulSoup\n",
    "import json\n",
    "\n",
    "def extractComponent(opinion, selector, attribute=None):\n",
    "    try:\n",
    "        if attribute:\n",
    "            return opinion.select(selector).pop(0)[attribute].strip()\n",
    "        if attribute is None:\n",
    "            return opinion.select(selector).pop(0).get_text().strip()\n",
    "        else:\n",
    "            return [item.get_text().strip() for item in opinion.select(selector)]            \n",
    "    except IndexError:\n",
    "        return None\n",
    "\n",
    "components = {\n",
    "    \"author\": [\"span.user-post__author-name\"],\n",
    "    \"rcmd\": [\"span.user-post__author-recomendation > em\"],\n",
    "    \"stars\": [\"span.user-post__score-count\"],\n",
    "    \"content\": [\"div.user-post__text\"],\n",
    "    \"pros\": [\"div[class*=\\\"positives\\\"] ~ div.review-feature__item\", False],\n",
    "    \"cons\": [\"div[class*=\\\"negatives\\\"] ~ div.review-feature__item\", False],\n",
    "    \"purchased\": [\"div.review-pz\"],\n",
    "    \"publishDate\": [\"span.user-post__published > time:nth-child(1)\", \"datetime\"],\n",
    "    \"purchaseDate\": [\"span.user-post__published > time:nth-child(2)\", \"datetime\"],\n",
    "    \"useful\": [\"span[id^='votes-yes']\"],\n",
    "    \"useless\": [\"span[id^='votes-no']\"]\n",
    "}\n",
    "\n",
    "productId = input(\"Podaj kod produktu: \")\n",
    "print('\\n')\n",
    "\n",
    "respons = requests.get(\"https://www.ceneo.pl/{}#tab=reviews\".format(productId))\n",
    "page = 1\n",
    "opinionList = []\n",
    "\n",
    "pageDOM = BeautifulSoup(respons.text, 'html.parser')\n",
    "opinionCount = int(pageDOM.find_all(\"span\", class_ = \"page-tab__title js_prevent-middle-button-click\")[2].string.split()[-1].strip('()'))\n",
    "downloadedOpinions = 0\n",
    "    \n",
    "while respons.status_code == 200:\n",
    "    pageDOM = BeautifulSoup(respons.text, 'html.parser')\n",
    "    opinions = pageDOM.select(\"div.js_product-review\")\n",
    "\n",
    "    for opinion in opinions:\n",
    "        opinionDict = {key:extractComponent(opinion, *value)\n",
    "                        for key, value in components.items()}\n",
    "        opinionDict[\"opinionId\"] = opinion[\"data-entry-id\"]\n",
    "        opinionList.append(opinionDict)\n",
    "    downloadedOpinions += len(opinions)\n",
    "    \n",
    "    print(f\"Pobieranie {page} strony z opiniami. Pobrano {round(100 * downloadedOpinions / opinionCount, 0)}%.\")\n",
    "    \n",
    "    page += 1\n",
    "    respons = requests.get(\"https://www.ceneo.pl/{}/opinie-\".format(productId)+str(page), allow_redirects=False)\n",
    "\n",
    "with open(f\"./opinions/{productId}.json\", \"w\", encoding=\"UTF-8\") as f:\n",
    "    json.dump(opinionList, f, indent=4, ensure_ascii=False)"
   ]
  },
  {
   "cell_type": "code",
   "execution_count": null,
   "id": "8e7c1979",
   "metadata": {},
   "outputs": [],
   "source": []
  }
 ],
 "metadata": {
  "kernelspec": {
   "display_name": "Python 3",
   "language": "python",
   "name": "python3"
  },
  "language_info": {
   "codemirror_mode": {
    "name": "ipython",
    "version": 3
   },
   "file_extension": ".py",
   "mimetype": "text/x-python",
   "name": "python",
   "nbconvert_exporter": "python",
   "pygments_lexer": "ipython3",
   "version": "3.6.9"
  }
 },
 "nbformat": 4,
 "nbformat_minor": 5
}
